{
 "cells": [
  {
   "cell_type": "code",
   "execution_count": 1,
   "id": "785254d2-4b25-41dd-818b-4fc7e7297537",
   "metadata": {},
   "outputs": [],
   "source": [
    "from src.acquire import get_zillow_data\n",
    "from src.prepare import wrangle_zillow\n",
    "\n",
    "import pandas as pd\n",
    "import numpy as np\n",
    "\n",
    "%matplotlib inline\n",
    "import matplotlib.pyplot as plt\n",
    "import seaborn as sns\n",
    "\n",
    "import scipy.stats as scs\n",
    "\n",
    "from sklearn.cluster import KMeans, DBSCAN, AgglomerativeClustering\n",
    "\n",
    "from sklearn.preprocessing import MinMaxScaler, RobustScaler\n",
    "from sklearn.model_selection import train_test_split\n",
    "from sklearn.metrics import pairwise_distances"
   ]
  },
  {
   "cell_type": "code",
   "execution_count": null,
   "id": "c8b54c2e-d462-4d1b-8264-f7415aa44579",
   "metadata": {},
   "outputs": [],
   "source": [
    "#df = get_zillow_data()\n",
    "#df.to_csv(\"data/sfr_2017.csv\")\n",
    "\n",
    "df = pd.read_csv(\"data/sfr_2017.csv\", index_col=0)\n",
    "df = df.dropna(axis=0, subset=[\"taxvaluedollarcnt\", \"calculatedfinishedsquarefeet\"])\n",
    "X_train, X_test, X_val, y_train, y_test, y_val = wrangle_zillow(df, k=2) #k specifies outlier clipping\n",
    "X_train.info()"
   ]
  },
  {
   "cell_type": "code",
   "execution_count": null,
   "id": "76c59b47-a382-40c8-97e4-9d2938ebd994",
   "metadata": {},
   "outputs": [],
   "source": []
  }
 ],
 "metadata": {
  "kernelspec": {
   "display_name": "Python 3 (ipykernel)",
   "language": "python",
   "name": "python3"
  },
  "language_info": {
   "codemirror_mode": {
    "name": "ipython",
    "version": 3
   },
   "file_extension": ".py",
   "mimetype": "text/x-python",
   "name": "python",
   "nbconvert_exporter": "python",
   "pygments_lexer": "ipython3",
   "version": "3.8.11"
  }
 },
 "nbformat": 4,
 "nbformat_minor": 5
}
